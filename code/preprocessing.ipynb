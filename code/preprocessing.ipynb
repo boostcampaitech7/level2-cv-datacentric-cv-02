{
 "cells": [
  {
   "cell_type": "markdown",
   "metadata": {},
   "source": [
    "# 1. 이미지를 제대로 열기 위해서는 이 함수를 적용하시오"
   ]
  },
  {
   "cell_type": "code",
   "execution_count": 6,
   "metadata": {},
   "outputs": [],
   "source": [
    "import streamlit as st\n",
    "import os\n",
    "import json\n",
    "import re\n",
    "from PIL import Image, ImageDraw, ImageFont, ExifTags\n"
   ]
  },
  {
   "cell_type": "code",
   "execution_count": 7,
   "metadata": {},
   "outputs": [],
   "source": [
    "def open_image_correct_orientation(image_path):\n",
    "    # 이미지 열기\n",
    "    image = Image.open(image_path)\n",
    "\n",
    "    # EXIF 데이터에서 Orientation 태그 확인\n",
    "    try:\n",
    "        for orientation in ExifTags.TAGS.keys():\n",
    "            if ExifTags.TAGS[orientation] == 'Orientation':\n",
    "                break\n",
    "        exif = image._getexif()\n",
    "        if exif is not None and orientation in exif:\n",
    "            if exif[orientation] == 3:\n",
    "                image = image.rotate(180, expand=True)\n",
    "            elif exif[orientation] == 6:\n",
    "                image = image.rotate(270, expand=True)\n",
    "            elif exif[orientation] == 8:\n",
    "                image = image.rotate(90, expand=True)\n",
    "    except (AttributeError, KeyError, IndexError):\n",
    "        # EXIF 데이터가 없거나 처리할 수 없는 경우\n",
    "        pass\n",
    "\n",
    "    return image\n"
   ]
  },
  {
   "cell_type": "markdown",
   "metadata": {},
   "source": [
    "# 2. preprocessing 한 train_json"
   ]
  },
  {
   "cell_type": "code",
   "execution_count": null,
   "metadata": {},
   "outputs": [],
   "source": [
    "import os\n",
    "import json\n",
    "\n",
    "# 기본 경로 설정\n",
    "data_path = 'data/'\n",
    "languages = {\n",
    "    'Chinese': 'chinese_receipt',\n",
    "    'Japanese': 'japanese_receipt',\n",
    "    'Thai': 'thai_receipt',\n",
    "    'Vietnamese': 'vietnamese_receipt'\n",
    "}\n",
    "\n",
    "def remove_empty_transcriptions(data):\n",
    "    \"\"\"\n",
    "    모든 extractor에서 transcription이 빈 문자열인 항목을 제거하는 함수.\n",
    "    \n",
    "    Parameters:\n",
    "    data (dict): train_data와 같은 이미지 데이터를 담고 있는 딕셔너리.\n",
    "    \"\"\"\n",
    "    for extractor_key, extractor_data in data[\"images\"].items():\n",
    "        words = extractor_data.get(\"words\", {})\n",
    "        \n",
    "        # 각 extractor의 words에서 최대 key 값을 찾음\n",
    "        max_key = max(int(key) for key in words.keys() if key.isdigit())\n",
    "        \n",
    "        # 빈 문자열 transcription을 가진 키를 수집\n",
    "        keys_to_remove = [\n",
    "            key for key, word_data in words.items()\n",
    "            if key.isdigit() and 1 <= int(key) <= max_key and word_data[\"transcription\"] == \"\"\n",
    "        ]\n",
    "        \n",
    "        # 수집된 키를 딕셔너리에서 제거\n",
    "        for key in keys_to_remove:\n",
    "            del words[key]\n",
    "\n",
    "# 각 언어별로 train.json을 처리하여 현재 디렉터리에 저장\n",
    "for language, folder in languages.items():\n",
    "    ufo_path = os.path.join(data_path, folder, \"ufo\")\n",
    "    train_json_path = os.path.join(ufo_path, 'train.json')\n",
    "    \n",
    "    # JSON 파일 로드\n",
    "    with open(train_json_path, 'r', encoding='utf-8') as f:\n",
    "        train_data = json.load(f)\n",
    "    \n",
    "    # 빈 transcription 항목 제거\n",
    "    remove_empty_transcriptions(train_data)\n",
    "    \n",
    "    # 결과를 현재 디렉터리에 새로운 파일로 저장 (언어 이름을 파일명에 반영)\n",
    "    output_path = f'preprocessing_{language}_train.json'\n",
    "    with open(output_path, 'w', encoding='utf-8') as f:\n",
    "        json.dump(train_data, f, ensure_ascii=False, indent=4)\n",
    "    \n",
    "    print(f\"{language}의 preprocessing_{language}_train.json 파일이 현재 디렉터리에 저장되었습니다.\")\n"
   ]
  }
 ],
 "metadata": {
  "kernelspec": {
   "display_name": "AI_tech",
   "language": "python",
   "name": "python3"
  },
  "language_info": {
   "codemirror_mode": {
    "name": "ipython",
    "version": 3
   },
   "file_extension": ".py",
   "mimetype": "text/x-python",
   "name": "python",
   "nbconvert_exporter": "python",
   "pygments_lexer": "ipython3",
   "version": "3.9.19"
  }
 },
 "nbformat": 4,
 "nbformat_minor": 2
}
